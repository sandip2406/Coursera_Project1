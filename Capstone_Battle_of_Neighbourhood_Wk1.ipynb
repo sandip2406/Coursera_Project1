{
    "cells": [
        {
            "cell_type": "markdown",
            "metadata": {
                "collapsed": true
            },
            "source": "# Coursera Capstone Project-The Battle of Neighborhoods (Week 1)"
        },
        {
            "cell_type": "markdown",
            "metadata": {},
            "source": "### The Battle of Neighborhoods (Week 1)"
        },
        {
            "cell_type": "markdown",
            "metadata": {},
            "source": "**Gerardo A. Navia - Part 1 : Introduction and Data Sections**"
        },
        {
            "cell_type": "code",
            "execution_count": 158,
            "metadata": {},
            "outputs": [
                {
                    "name": "stdout",
                    "output_type": "stream",
                    "text": "Solving environment: done\n\n# All requested packages already installed.\n\nLibraries imported.\n"
                }
            ],
            "source": "import numpy as np # library to handle data in a vectorized manner\nimport time\nimport pandas as pd # library for data analsysis\npd.set_option('display.max_columns', None)\npd.set_option('display.max_rows', None)\n\nimport json # library to handle JSON files\nimport requests # library to handle requests\nfrom pandas.io.json import json_normalize # tranform JSON file into a pandas dataframe\n\nfrom geopy.geocoders import Nominatim # convert an address into latitude and longitude values\n!conda install -c conda-forge folium=0.5.0 --yes # uncomment this line if you haven't completed the Foursquare API lab\nimport folium # map rendering library\n\nprint('Libraries imported.')"
        },
        {
            "cell_type": "markdown",
            "metadata": {},
            "source": "#### Coursera Capstone Week 1 - REPORT CONTENT"
        },
        {
            "cell_type": "markdown",
            "metadata": {},
            "source": "1. **Introduction Section** : \u2043 Discussion of the business problem and the interested audience in this project.\n2. **Data Section:**\n    \u2043 Description of the data that will be used to solve the problem and the sources."
        },
        {
            "cell_type": "code",
            "execution_count": 2,
            "metadata": {},
            "outputs": [],
            "source": "# A description of the problem and a discussion of the background. (15 marks)"
        },
        {
            "cell_type": "markdown",
            "metadata": {},
            "source": "## 1. Introduction Section :"
        },
        {
            "cell_type": "markdown",
            "metadata": {},
            "source": "### Discussion of the business problem and the audience who would be interested in this project."
        },
        {
            "cell_type": "markdown",
            "metadata": {},
            "source": "#### Description of the Problem and Background"
        },
        {
            "cell_type": "markdown",
            "metadata": {},
            "source": "#### Scenario:"
        },
        {
            "cell_type": "markdown",
            "metadata": {},
            "source": "I am a Learner data scientist residing in India. I currently live in Kolkata under the state West Bengal with my friend Sumit and we enjoy many ammenities and venues in the area, such as various cousine restaurants, cafes, food shops and entertainment. Sumit has been offered a great opportunity to work in Manhattan, NY. Although, He is a bit stressed about a comfortable place to live in Manhattan. Therefore, I decided to apply the learned skills during the Coursera course to explore ways to make sure my decision is factual and rewarding. Of course, there are alternatives to achieve the answer using available Google and Social media tools, but it rewarding doing it myself with learned tools\n\n"
        },
        {
            "cell_type": "markdown",
            "metadata": {},
            "source": "#### Business Problem:"
        },
        {
            "cell_type": "markdown",
            "metadata": {},
            "source": "The challenge to resolve is being able to find a rental apartment unit in Manhattan NY that offers similar characteristics and benefits to my current situation. Therefore, in order to set a basis for comparison, I want to find a renta unit subject to the following conditions:\n\n1. Apartment with min 2 bedrooms with monthly rent not to exceed US$7000/month\n2. Unit located within walking distance (<=1.0 mile, 1.6 km) from a subway metro station in Manhattan\n3. Area with ammenities and venues similar to the ones described for current location \n\nAs a reference, I have included a map of venues near current residence."
        },
        {
            "cell_type": "markdown",
            "metadata": {},
            "source": "#### Interested Audience"
        },
        {
            "cell_type": "markdown",
            "metadata": {},
            "source": "I believe this is a relevant challenge with valid questions for anyone moving to other large city in US, EU or Asia. The same methodology can be applied in accordance to demands as applicable. This case is also applicable for anyone interested in exploring starting or locating a new business in any city. Lastly, it can also serve as a good practical exercise to develop Data Science skills."
        },
        {
            "cell_type": "code",
            "execution_count": 257,
            "metadata": {},
            "outputs": [],
            "source": "# A description of the data and how it will be used to solve the problem. (15 marks)"
        },
        {
            "cell_type": "markdown",
            "metadata": {},
            "source": "# 2. Data Section:"
        },
        {
            "cell_type": "markdown",
            "metadata": {},
            "source": "## Description of the data and its sources that will be used to solve the problem"
        },
        {
            "cell_type": "markdown",
            "metadata": {},
            "source": "### 2.1 Data of Current Situation"
        },
        {
            "cell_type": "markdown",
            "metadata": {},
            "source": "I Currently reside in the Park Street area of Kolkata in india. I use Foursquare to identify the venues around the area of residence which are then shown in the India map shown in methodology and execution in section 3.0 . It serves as a reference for comparison with the desired future location in Manhattan NY."
        },
        {
            "cell_type": "markdown",
            "metadata": {},
            "source": "### 2.2 Description of the Data:"
        },
        {
            "cell_type": "markdown",
            "metadata": {},
            "source": "The following data is required to answer the issues of the problem:\n\n1. List of Boroughs and neighborhoods of Manhattan with their geodata (latitud and longitud)\n2. List of Subway metro stations in Manhattan with their address location\n3. List of apartments for rent in Manhattan area with their addresses and price\n4. Preferably, a list of apartment for rent with additional information, such as price, address, area, # of beds, etc\n5. Venues for each Manhattan neighborhood ( than can be clustered)\n6. Venues for subway metro stations, as needed"
        },
        {
            "cell_type": "markdown",
            "metadata": {},
            "source": "### 2.3 Data Required to resolve the problem"
        },
        {
            "cell_type": "markdown",
            "metadata": {},
            "source": "The data will be used as follows:\n\nUse Foursquare and geopy data to map top 10 venues for all Manhattan neighborhoods and clustered in groups ( as per Course LAB)\nUse foursquare and geopy data to map the location of subway metro stations , separately and on top of the above clustered map in order to be able to identify the venues and ammenities near each metro station, or explore each subway location separately\nUse Foursquare and geopy data to map the location of rental places, in some form, linked to the subway locations.\ncreate a map that depicts, for instance, the average rental price per square ft, around a radious of 1.0 mile (1.6 km) around each subway station - or a similar metrics. I will be able to quickly point to the popups to know the relative price per subway area.\nAddresses from rental locations will be converted to geodata( lat, long) using Geopy-distance and Nominatim.\nData will be searched in open data sources if available, from real estate sites if open to reading, libraries or other government agencies such as Metro New York MTA, etc.\nThe procesing of these DATA will allow to answer the key questions to make a decision:\n\n1. what is the cost of rent (per square ft) around a mile radius from each subway metro station?\n2. what is the area of Manhattan with best rental pricing that meets criteria established?\n3. What is the distance from work place ( Park Ave and 53 rd St) and the tentative future home?\n4. What are the venues of the two best places to live? How the prices compare?\n5. How venues distribute among Manhattan neighborhoods and around metro stations?\n6. Are there tradeoffs between size and price and location?\n7. Any other interesting statistical data findings of the real estate and overall data."
        },
        {
            "cell_type": "markdown",
            "metadata": {},
            "source": "# 3.Reference of venues around current residence in kolkata,India for comparison to Manhattan place"
        },
        {
            "cell_type": "code",
            "execution_count": 127,
            "metadata": {},
            "outputs": [
                {
                    "name": "stdout",
                    "output_type": "stream",
                    "text": "Requirement already satisfied: geocoder in /opt/conda/envs/Python36/lib/python3.6/site-packages (1.38.1)\nRequirement already satisfied: future in /opt/conda/envs/Python36/lib/python3.6/site-packages (from geocoder) (0.17.1)\nRequirement already satisfied: ratelim in /opt/conda/envs/Python36/lib/python3.6/site-packages (from geocoder) (0.1.6)\nRequirement already satisfied: six in /opt/conda/envs/Python36/lib/python3.6/site-packages (from geocoder) (1.12.0)\nRequirement already satisfied: click in /opt/conda/envs/Python36/lib/python3.6/site-packages (from geocoder) (7.0)\nRequirement already satisfied: requests in /opt/conda/envs/Python36/lib/python3.6/site-packages (from geocoder) (2.21.0)\nRequirement already satisfied: decorator in /opt/conda/envs/Python36/lib/python3.6/site-packages (from ratelim->geocoder) (4.3.2)\nRequirement already satisfied: urllib3<1.25,>=1.21.1 in /opt/conda/envs/Python36/lib/python3.6/site-packages (from requests->geocoder) (1.24.1)\nRequirement already satisfied: chardet<3.1.0,>=3.0.2 in /opt/conda/envs/Python36/lib/python3.6/site-packages (from requests->geocoder) (3.0.4)\nRequirement already satisfied: certifi>=2017.4.17 in /opt/conda/envs/Python36/lib/python3.6/site-packages (from requests->geocoder) (2019.11.28)\nRequirement already satisfied: idna<2.9,>=2.5 in /opt/conda/envs/Python36/lib/python3.6/site-packages (from requests->geocoder) (2.8)\n"
                }
            ],
            "source": "!pip install geocoder\nimport geocoder"
        },
        {
            "cell_type": "code",
            "execution_count": 229,
            "metadata": {},
            "outputs": [
                {
                    "name": "stderr",
                    "output_type": "stream",
                    "text": "/opt/conda/envs/Python36/lib/python3.6/site-packages/ipykernel/__main__.py:4: DeprecationWarning: Using Nominatim with the default \"geopy/1.18.1\" `user_agent` is strongly discouraged, as it violates Nominatim's ToS https://operations.osmfoundation.org/policies/nominatim/ and may possibly cause 403 and 429 HTTP errors. Please specify a custom `user_agent` with `Nominatim(user_agent=\"my-application\")` or by overriding the default `user_agent`: `geopy.geocoders.options.default_user_agent = \"my-application\"`. In geopy 2.0 this will become an exception.\n"
                },
                {
                    "name": "stdout",
                    "output_type": "stream",
                    "text": "The geograpical coordinate of My home are 18.5968087, 73.7791717.\n"
                }
            ],
            "source": "address = 'Park Street,India'\n#address = 'Mccallum Street, Singapore'\n\ngeolocator = Nominatim()\nlocation = geolocator.geocode(address)\nlatitude = location.latitude\nlongitude = location.longitude\nprint('The geograpical coordinate of My home are {}, {}.'.format(latitude, longitude))"
        },
        {
            "cell_type": "code",
            "execution_count": 230,
            "metadata": {},
            "outputs": [],
            "source": "neighborhood_latitude=latitude\nneighborhood_longitude=longitude"
        },
        {
            "cell_type": "code",
            "execution_count": 231,
            "metadata": {},
            "outputs": [
                {
                    "data": {
                        "text/plain": "'https://api.foursquare.com/v2/venues/explore?&client_id=NXXX11OQJ3F3GZSODERMSQNLIZOJOTATTFXNKFIXCVQUTTRJ&client_secret=QMVFJ2K2OQ5CDUUGB3Q1IPAGWJB20JTFDRYHSA2MV0VDRWDP&v=20180605&ll=18.5968087,73.7791717&radius=900&limit=100'"
                    },
                    "execution_count": 231,
                    "metadata": {},
                    "output_type": "execute_result"
                }
            ],
            "source": "VERSION = '20180605'\nCLIENT_ID = 'NXXX11OQJ3F3GZSODERMSQNLIZOJOTATTFXNKFIXCVQUTTRJ'\nCLIENT_SECRET = 'QMVFJ2K2OQ5CDUUGB3Q1IPAGWJB20JTFDRYHSA2MV0VDRWDP'\nlatitude = neighborhood_latitude\nlongitude = neighborhood_longitude\nradius = 900 # define radius\nLIMIT = 100 # limit of number of venues returned by Foursquare API\n# create URL\nurl = 'https://api.foursquare.com/v2/venues/explore?&client_id={}&client_secret={}&v={}&ll={},{}&radius={}&limit={}'.format(\n    CLIENT_ID, \n    CLIENT_SECRET, \n    VERSION, \n    neighborhood_latitude, \n    neighborhood_longitude, \n    radius, \n    LIMIT)\nurl # display URL"
        },
        {
            "cell_type": "code",
            "execution_count": 232,
            "metadata": {},
            "outputs": [],
            "source": "results = requests.get(url).json()\n#results"
        },
        {
            "cell_type": "code",
            "execution_count": 244,
            "metadata": {},
            "outputs": [],
            "source": "# function that extracts the category of the venue\ndef get_category_type(row):\n    try:\n        categories_list = row['categories']\n    except:\n        categories_list = row['venue.categories']\n        \n    if len(categories_list) == 0:\n        return None\n    else:\n        return categories_list[0]['name']"
        },
        {
            "cell_type": "code",
            "execution_count": 256,
            "metadata": {},
            "outputs": [
                {
                    "data": {
                        "text/html": "<div>\n<style scoped>\n    .dataframe tbody tr th:only-of-type {\n        vertical-align: middle;\n    }\n\n    .dataframe tbody tr th {\n        vertical-align: top;\n    }\n\n    .dataframe thead th {\n        text-align: right;\n    }\n</style>\n<table border=\"1\" class=\"dataframe\">\n  <thead>\n    <tr style=\"text-align: right;\">\n      <th></th>\n      <th>name</th>\n      <th>categories</th>\n      <th>address</th>\n      <th>lat</th>\n      <th>lng</th>\n    </tr>\n  </thead>\n  <tbody>\n    <tr>\n      <th>0</th>\n      <td>Subway</td>\n      <td>Sandwich Place</td>\n      <td>NaN</td>\n      <td>18.602922</td>\n      <td>73.776887</td>\n    </tr>\n    <tr>\n      <th>1</th>\n      <td>18 Degrees</td>\n      <td>Lounge</td>\n      <td>NaN</td>\n      <td>18.593509</td>\n      <td>73.785879</td>\n    </tr>\n    <tr>\n      <th>2</th>\n      <td>Hotel Ambience Executive</td>\n      <td>Hotel</td>\n      <td>NaN</td>\n      <td>18.600523</td>\n      <td>73.775396</td>\n    </tr>\n    <tr>\n      <th>3</th>\n      <td>Spot 18 Mall</td>\n      <td>Shopping Mall</td>\n      <td>Pimple Saudagar/Rahatani</td>\n      <td>18.593470</td>\n      <td>73.786181</td>\n    </tr>\n    <tr>\n      <th>4</th>\n      <td>KFC Restaurant</td>\n      <td>American Restaurant</td>\n      <td>Spot 18 Mall</td>\n      <td>18.593440</td>\n      <td>73.786083</td>\n    </tr>\n    <tr>\n      <th>5</th>\n      <td>Fountain inn</td>\n      <td>Hotel</td>\n      <td>Kalewadi phata</td>\n      <td>18.600644</td>\n      <td>73.780106</td>\n    </tr>\n    <tr>\n      <th>6</th>\n      <td>desi treat</td>\n      <td>Indian Restaurant</td>\n      <td>NaN</td>\n      <td>18.596009</td>\n      <td>73.780768</td>\n    </tr>\n    <tr>\n      <th>7</th>\n      <td>Medplus</td>\n      <td>Pharmacy</td>\n      <td>NaN</td>\n      <td>18.597140</td>\n      <td>73.776850</td>\n    </tr>\n    <tr>\n      <th>8</th>\n      <td>Pride Purple Square</td>\n      <td>Shopping Mall</td>\n      <td>Kalewadi Phata</td>\n      <td>18.603311</td>\n      <td>73.777126</td>\n    </tr>\n    <tr>\n      <th>9</th>\n      <td>Pixel Viilage</td>\n      <td>Photography Studio</td>\n      <td>505 , spot 18 multiplex</td>\n      <td>18.593479</td>\n      <td>73.785934</td>\n    </tr>\n    <tr>\n      <th>10</th>\n      <td>Jagtap dairy chowk</td>\n      <td>Bus Station</td>\n      <td>NaN</td>\n      <td>18.592401</td>\n      <td>73.785232</td>\n    </tr>\n    <tr>\n      <th>11</th>\n      <td>YOLO Gastro Bar</td>\n      <td>Gastropub</td>\n      <td>Spot 18</td>\n      <td>18.593721</td>\n      <td>73.786094</td>\n    </tr>\n    <tr>\n      <th>12</th>\n      <td>City Pride : Royal Cinemas</td>\n      <td>Multiplex</td>\n      <td>Spot 18 mall</td>\n      <td>18.593332</td>\n      <td>73.786166</td>\n    </tr>\n    <tr>\n      <th>13</th>\n      <td>Eatsome</td>\n      <td>Snack Place</td>\n      <td>Behind Shivar Garden, Near Rainbow Plaza, Pimp...</td>\n      <td>18.595382</td>\n      <td>73.787335</td>\n    </tr>\n    <tr>\n      <th>14</th>\n      <td>Tim luck luck</td>\n      <td>Indian Restaurant</td>\n      <td>Besides Park Royale</td>\n      <td>18.598757</td>\n      <td>73.786031</td>\n    </tr>\n  </tbody>\n</table>\n</div>",
                        "text/plain": "                          name           categories  \\\n0                       Subway       Sandwich Place   \n1                   18 Degrees               Lounge   \n2     Hotel Ambience Executive                Hotel   \n3                 Spot 18 Mall        Shopping Mall   \n4               KFC Restaurant  American Restaurant   \n5                 Fountain inn                Hotel   \n6                   desi treat    Indian Restaurant   \n7                      Medplus             Pharmacy   \n8          Pride Purple Square        Shopping Mall   \n9                Pixel Viilage   Photography Studio   \n10          Jagtap dairy chowk          Bus Station   \n11             YOLO Gastro Bar            Gastropub   \n12  City Pride : Royal Cinemas            Multiplex   \n13                     Eatsome          Snack Place   \n14               Tim luck luck    Indian Restaurant   \n\n                                              address        lat        lng  \n0                                                 NaN  18.602922  73.776887  \n1                                                 NaN  18.593509  73.785879  \n2                                                 NaN  18.600523  73.775396  \n3                            Pimple Saudagar/Rahatani  18.593470  73.786181  \n4                                        Spot 18 Mall  18.593440  73.786083  \n5                                      Kalewadi phata  18.600644  73.780106  \n6                                                 NaN  18.596009  73.780768  \n7                                                 NaN  18.597140  73.776850  \n8                                      Kalewadi Phata  18.603311  73.777126  \n9                             505 , spot 18 multiplex  18.593479  73.785934  \n10                                                NaN  18.592401  73.785232  \n11                                            Spot 18  18.593721  73.786094  \n12                                       Spot 18 mall  18.593332  73.786166  \n13  Behind Shivar Garden, Near Rainbow Plaza, Pimp...  18.595382  73.787335  \n14                                Besides Park Royale  18.598757  73.786031  "
                    },
                    "execution_count": 256,
                    "metadata": {},
                    "output_type": "execute_result"
                }
            ],
            "source": "venues = results['response']['groups'][0]['items']\n    \nSGnearby_venues = json_normalize(venues) # flatten JSON\n\n# filter columns\nfiltered_columns = ['venue.name', 'venue.categories', 'venue.location.address', 'venue.location.lat', 'venue.location.lng']\nSGnearby_venues =SGnearby_venues.loc[:, filtered_columns]\n\n# filter the category for each row\nSGnearby_venues['venue.categories'] = SGnearby_venues.apply(get_category_type, axis=1)\n\n# clean columns\nSGnearby_venues.columns = [col.split(\".\")[-1] for col in SGnearby_venues.columns]\n\nSGnearby_venues"
        },
        {
            "cell_type": "code",
            "execution_count": 258,
            "metadata": {},
            "outputs": [
                {
                    "data": {
                        "text/html": "<div style=\"width:100%;\"><div style=\"position:relative;width:100%;height:0;padding-bottom:60%;\"><iframe src=\"data:text/html;charset=utf-8;base64,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\" style=\"position:absolute;width:100%;height:100%;left:0;top:0;border:none !important;\" allowfullscreen webkitallowfullscreen mozallowfullscreen></iframe></div></div>",
                        "text/plain": "<folium.folium.Map at 0x7faa676e3e80>"
                    },
                    "execution_count": 258,
                    "metadata": {},
                    "output_type": "execute_result"
                }
            ],
            "source": "\n# create map of Singapore place  using latitude and longitude values\nmap_Kolkata = folium.Map(location=[latitude, longitude], zoom_start=15)\n\n# add markers to map\nfor lat, lng, label in zip(SGnearby_venues['lat'], SGnearby_venues['lng'], SGnearby_venues['name']):\n    label = folium.Popup(label, parse_html=True)\n    folium.CircleMarker(\n        [lat, lng],\n        radius=10,\n        popup=label,\n        color='green',\n        fill=True,\n        fill_color='#3199cc',\n        fill_opacity=0.3,\n        parse_html=False).add_to(map_Kolkata)\nmap_Kolkata"
        },
        {
            "cell_type": "code",
            "execution_count": null,
            "metadata": {},
            "outputs": [],
            "source": ""
        }
    ],
    "metadata": {
        "kernelspec": {
            "display_name": "Python 3.6",
            "language": "python",
            "name": "python3"
        },
        "language_info": {
            "codemirror_mode": {
                "name": "ipython",
                "version": 3
            },
            "file_extension": ".py",
            "mimetype": "text/x-python",
            "name": "python",
            "nbconvert_exporter": "python",
            "pygments_lexer": "ipython3",
            "version": "3.6.8"
        }
    },
    "nbformat": 4,
    "nbformat_minor": 1
}